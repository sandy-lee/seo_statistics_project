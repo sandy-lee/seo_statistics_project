{
 "cells": [
  {
   "cell_type": "code",
   "execution_count": 17,
   "metadata": {},
   "outputs": [],
   "source": [
    "import pandas as pd\n",
    "import numpy as np\n",
    "import seaborn as sns\n",
    "import matplotlib.pyplot as plt\n",
    "import warnings\n",
    "import notebook_toolkit as nt"
   ]
  },
  {
   "cell_type": "code",
   "execution_count": 18,
   "metadata": {},
   "outputs": [],
   "source": [
    "warnings.filterwarnings(\"ignore\")"
   ]
  },
  {
   "cell_type": "code",
   "execution_count": 74,
   "metadata": {},
   "outputs": [],
   "source": [
    "def clean_data(dataframe = None, column_to_clean = None, value_to_replace = None, null_replace_value = None, clean_column_datatype = None):\n",
    "    import pandas\n",
    "    dataframe = dataframe[column_to_clean].replace(to_replace = {'.*': value_to_replace}, inplace = True, regex = True)\n",
    "    dataframe = dataframe[column_to_clean].fillna(value = null_replace_value, inplace = True)\n",
    "    dataframe = dataframe[column_to_clean] = dataframe[column_to_clean].astype(clean_column_datatype)\n",
    "    return dataframe\n"
   ]
  },
  {
   "cell_type": "code",
   "execution_count": 79,
   "metadata": {},
   "outputs": [],
   "source": [
    "page_df = pd.read_csv('internal_all.csv')\n",
    "serp_df = pd.read_csv('serp_results.csv')\n",
    "serp_df.drop(labels=\"Unnamed: 0\", axis=1, inplace = True);\n",
    "serp_df.rename(columns={'result' : 'Address'}, inplace = True);\n",
    "page_serp_df = serp_df.merge(page_df, on=\"Address\")\n",
    "page_serp_df.columns = page_serp_df.columns.str.replace(' ', '_')\n",
    "page_serp_df.columns = page_serp_df.columns.str.lower()"
   ]
  },
  {
   "cell_type": "code",
   "execution_count": 80,
   "metadata": {
    "tags": []
   },
   "outputs": [
    {
     "output_type": "stream",
     "name": "stdout",
     "text": "<class 'pandas.core.frame.DataFrame'>\nInt64Index: 87767 entries, 0 to 87766\nData columns (total 144 columns):\nkeyword                                              87767 non-null object\nposition                                             87767 non-null int64\naddress                                              87767 non-null object\ncontent                                              79171 non-null object\nstatus_code                                          87767 non-null int64\nstatus                                               87288 non-null object\nindexability                                         87767 non-null object\nindexability_status                                  23212 non-null object\ntitle_1                                              67377 non-null object\ntitle_1_length                                       87767 non-null int64\ntitle_1_pixel_width                                  87767 non-null int64\ntitle_2                                              640 non-null object\ntitle_2_length                                       87767 non-null int64\ntitle_2_pixel_width                                  87767 non-null int64\nmeta_description_1                                   53638 non-null object\nmeta_description_1_length                            87767 non-null int64\nmeta_description_1_pixel_width                       87767 non-null int64\nmeta_description_2                                   833 non-null object\nmeta_description_2_length                            87767 non-null int64\nmeta_description_2_pixel_width                       87767 non-null int64\nmeta_description_3                                   12 non-null object\nmeta_description_3_length                            87767 non-null int64\nmeta_description_3_pixel_width                       87767 non-null int64\nmeta_description_4                                   2 non-null object\nmeta_description_4_length                            87767 non-null int64\nmeta_description_4_pixel_width                       87767 non-null int64\nmeta_keyword_1                                       19650 non-null object\nmeta_keywords_1_length                               87767 non-null int64\nmeta_keyword_2                                       127 non-null object\nmeta_keywords_2_length                               87767 non-null int64\nmeta_keyword_3                                       19 non-null object\nmeta_keywords_3_length                               87767 non-null int64\nmeta_keyword_4                                       13 non-null object\nmeta_keywords_4_length                               87767 non-null int64\nmeta_keyword_5                                       10 non-null object\nmeta_keywords_5_length                               87767 non-null int64\nmeta_keyword_6                                       8 non-null object\nmeta_keywords_6_length                               87767 non-null int64\nmeta_keyword_7                                       5 non-null object\nmeta_keywords_7_length                               87767 non-null int64\nmeta_keyword_8                                       4 non-null object\nmeta_keywords_8_length                               87767 non-null int64\nmeta_keyword_9                                       4 non-null object\nmeta_keywords_9_length                               87767 non-null int64\nmeta_keyword_10                                      4 non-null object\nmeta_keywords_10_length                              87767 non-null int64\nmeta_keyword_11                                      3 non-null object\nmeta_keywords_11_length                              87767 non-null int64\nmeta_keyword_12                                      1 non-null object\nmeta_keywords_12_length                              87767 non-null int64\nmeta_keyword_13                                      1 non-null object\nmeta_keywords_13_length                              87767 non-null int64\nh1-1                                                 54399 non-null object\nh1-1_length                                          87767 non-null int64\nh1-2                                                 10691 non-null object\nh1-2_length                                          87767 non-null int64\nh2-1                                                 47499 non-null object\nh2-1_length                                          87767 non-null int64\nh2-2                                                 39118 non-null object\nh2-2_length                                          87767 non-null int64\nmeta_robots_1                                        22189 non-null object\nmeta_robots_2                                        5239 non-null object\nmeta_robots_3                                        273 non-null object\nmeta_robots_4                                        108 non-null object\nx-robots-tag_1                                       653 non-null object\nx-robots-tag_2                                       1 non-null object\nmeta_refresh_1                                       1847 non-null object\nmeta_refresh_2                                       8 non-null object\ncanonical_link_element_1                             51624 non-null object\ncanonical_link_element_2                             421 non-null object\nrel=\"next\"_1                                         3869 non-null object\nrel=\"prev\"_1                                         1157 non-null object\nhttp_rel=\"next\"_1                                    2 non-null object\nhttp_rel=\"prev\"_1                                    0 non-null float64\nsize_(bytes)                                         87767 non-null int64\nword_count                                           87767 non-null int64\ntext_ratio                                           87767 non-null float64\ncrawl_depth                                          87767 non-null int64\nlink_score                                           0 non-null float64\ninlinks                                              87767 non-null int64\nunique_inlinks                                       87767 non-null int64\n%_of_total                                           87767 non-null float64\noutlinks                                             87767 non-null int64\nunique_outlinks                                      87767 non-null int64\nexternal_outlinks                                    87767 non-null int64\nunique_external_outlinks                             87767 non-null int64\nclosest_similarity_match                             0 non-null float64\nno._near_duplicates                                  0 non-null float64\nspelling_errors                                      0 non-null float64\ngrammar_errors                                       0 non-null float64\nhash                                                 68535 non-null object\nresponse_time                                        83366 non-null float64\nlast_modified                                        16591 non-null object\nredirect_url                                         12321 non-null object\nredirect_type                                        12321 non-null object\nperformance_score                                    56870 non-null float64\nfirst_contentful_paint_time_(ms)                     56870 non-null float64\nspeed_index_time_(ms)                                56870 non-null float64\nlargest_contentful_paint_time_(ms)                   56870 non-null float64\ntime_to_interactive_(ms)                             56870 non-null float64\ntotal_blocking_time_(ms)                             56870 non-null float64\ncumulative_layout_shift                              56870 non-null float64\ntotal_size_savings_(bytes)                           56870 non-null float64\ntotal_time_savings_(ms)                              56870 non-null float64\ntotal_requests                                       56870 non-null float64\ntotal_page_size_(bytes)                              56870 non-null float64\nhtml_size_(bytes)                                    56870 non-null float64\nhtml_count                                           56870 non-null float64\nimage_size_(bytes)                                   56870 non-null float64\nimage_count                                          56870 non-null float64\ncss_size_(bytes)                                     56870 non-null float64\ncss_count                                            56870 non-null float64\njavascript_size_(bytes)                              56870 non-null float64\njavascript_count                                     56870 non-null float64\nfont_size_(bytes)                                    56870 non-null float64\nfont_count                                           56870 non-null float64\nmedia_size_(bytes)                                   56870 non-null float64\nmedia_count                                          56870 non-null float64\nother_size_(bytes)                                   56870 non-null float64\nother_count                                          56870 non-null float64\nthird_party_size_(bytes)                             56870 non-null float64\nthird_party_count                                    56870 non-null float64\ncrux_performance                                     16712 non-null object\ncrux_first_contentful_paint_time_(ms)                56870 non-null float64\ncrux_first_input_delay_time_(ms)                     56870 non-null float64\ncrux_largest_contentful_paint_time_(ms)              56870 non-null float64\ncrux_cumulative_layout_shift                         56870 non-null float64\neliminate_render-blocking_resources_savings_(ms)     56870 non-null float64\ndefer_offscreen_images_savings_(ms)                  56870 non-null float64\nefficiently_encode_images_savings_(ms)               56870 non-null float64\nproperly_size_images_savings_(ms)                    56870 non-null float64\nminify_css_savings_(ms)                              56870 non-null float64\nminify_javascript_savings_(ms)                       56870 non-null float64\nremove_unused_css_savings_(ms)                       56870 non-null float64\nremove_unused_javascript_savings_(ms)                56870 non-null float64\nserve_images_in_next-gen_formats_savings_(ms)        56870 non-null float64\nenable_text_compression_savings_(ms)                 56870 non-null float64\npreconnect_to_required_origins_savings_(ms)          56870 non-null float64\nserver_response_times_(ttfb)_(ms)                    56870 non-null float64\nmultiple_redirects_savings_(ms)                      56870 non-null float64\npreload_key_requests_savings_(ms)                    56870 non-null float64\nuse_video_format_for_animated_images_savings_(ms)    56870 non-null float64\ntotal_image_optimization_savings_(ms)                56870 non-null float64\nurl_encoded_address                                  87767 non-null object\ndtypes: float64(56), int64(40), object(48)\nmemory usage: 97.1+ MB\n"
    }
   ],
   "source": [
    "page_serp_df.info(verbose = True, null_counts = True)"
   ]
  },
  {
   "cell_type": "code",
   "execution_count": 81,
   "metadata": {},
   "outputs": [
    {
     "output_type": "error",
     "ename": "TypeError",
     "evalue": "'NoneType' object is not subscriptable",
     "traceback": [
      "\u001b[0;31m---------------------------------------------------------------------------\u001b[0m",
      "\u001b[0;31mTypeError\u001b[0m                                 Traceback (most recent call last)",
      "\u001b[0;32m<ipython-input-81-7a94e2b46c06>\u001b[0m in \u001b[0;36m<module>\u001b[0;34m()\u001b[0m\n\u001b[0;32m----> 1\u001b[0;31m \u001b[0mpage_serp_df\u001b[0m \u001b[0;34m=\u001b[0m \u001b[0mclean_data\u001b[0m\u001b[0;34m(\u001b[0m\u001b[0mpage_serp_df\u001b[0m\u001b[0;34m,\u001b[0m \u001b[0;34m'meta_robots_1'\u001b[0m\u001b[0;34m,\u001b[0m \u001b[0;36m1\u001b[0m\u001b[0;34m,\u001b[0m \u001b[0;36m0\u001b[0m\u001b[0;34m,\u001b[0m \u001b[0;34m'int64'\u001b[0m\u001b[0;34m)\u001b[0m\u001b[0;34m\u001b[0m\u001b[0m\n\u001b[0m",
      "\u001b[0;32m<ipython-input-74-7b94c55f41f0>\u001b[0m in \u001b[0;36mclean_data\u001b[0;34m(dataframe, column_to_clean, value_to_replace, null_replace_value, clean_column_datatype)\u001b[0m\n\u001b[1;32m      2\u001b[0m     \u001b[0;32mimport\u001b[0m \u001b[0mpandas\u001b[0m\u001b[0;34m\u001b[0m\u001b[0m\n\u001b[1;32m      3\u001b[0m     \u001b[0mdataframe\u001b[0m \u001b[0;34m=\u001b[0m \u001b[0mdataframe\u001b[0m\u001b[0;34m[\u001b[0m\u001b[0mcolumn_to_clean\u001b[0m\u001b[0;34m]\u001b[0m\u001b[0;34m.\u001b[0m\u001b[0mreplace\u001b[0m\u001b[0;34m(\u001b[0m\u001b[0mto_replace\u001b[0m \u001b[0;34m=\u001b[0m \u001b[0;34m{\u001b[0m\u001b[0;34m'.*'\u001b[0m\u001b[0;34m:\u001b[0m \u001b[0mvalue_to_replace\u001b[0m\u001b[0;34m}\u001b[0m\u001b[0;34m,\u001b[0m \u001b[0minplace\u001b[0m \u001b[0;34m=\u001b[0m \u001b[0;32mTrue\u001b[0m\u001b[0;34m,\u001b[0m \u001b[0mregex\u001b[0m \u001b[0;34m=\u001b[0m \u001b[0;32mTrue\u001b[0m\u001b[0;34m)\u001b[0m\u001b[0;34m\u001b[0m\u001b[0m\n\u001b[0;32m----> 4\u001b[0;31m     \u001b[0mdataframe\u001b[0m \u001b[0;34m=\u001b[0m \u001b[0mdataframe\u001b[0m\u001b[0;34m[\u001b[0m\u001b[0mcolumn_to_clean\u001b[0m\u001b[0;34m]\u001b[0m\u001b[0;34m.\u001b[0m\u001b[0mfillna\u001b[0m\u001b[0;34m(\u001b[0m\u001b[0mvalue\u001b[0m \u001b[0;34m=\u001b[0m \u001b[0mnull_replace_value\u001b[0m\u001b[0;34m,\u001b[0m \u001b[0minplace\u001b[0m \u001b[0;34m=\u001b[0m \u001b[0;32mTrue\u001b[0m\u001b[0;34m)\u001b[0m\u001b[0;34m\u001b[0m\u001b[0m\n\u001b[0m\u001b[1;32m      5\u001b[0m     \u001b[0mdataframe\u001b[0m \u001b[0;34m=\u001b[0m \u001b[0mdataframe\u001b[0m\u001b[0;34m[\u001b[0m\u001b[0mcolumn_to_clean\u001b[0m\u001b[0;34m]\u001b[0m \u001b[0;34m=\u001b[0m \u001b[0mdataframe\u001b[0m\u001b[0;34m[\u001b[0m\u001b[0mcolumn_to_clean\u001b[0m\u001b[0;34m]\u001b[0m\u001b[0;34m.\u001b[0m\u001b[0mastype\u001b[0m\u001b[0;34m(\u001b[0m\u001b[0mclean_column_datatype\u001b[0m\u001b[0;34m)\u001b[0m\u001b[0;34m\u001b[0m\u001b[0m\n\u001b[1;32m      6\u001b[0m     \u001b[0;32mreturn\u001b[0m \u001b[0mdataframe\u001b[0m\u001b[0;34m\u001b[0m\u001b[0m\n",
      "\u001b[0;31mTypeError\u001b[0m: 'NoneType' object is not subscriptable"
     ]
    }
   ],
   "source": [
    "page_serp_df = clean_data(page_serp_df, 'meta_robots_1', 1, 0, 'int64') "
   ]
  },
  {
   "cell_type": "code",
   "execution_count": 6,
   "metadata": {},
   "outputs": [],
   "source": [
    "page_df = pd.read_csv('internal_all.csv')\n",
    "serp_df = pd.read_csv('serp_results.csv')\n",
    "serp_df.drop(labels=\"Unnamed: 0\", axis=1, inplace = True);\n",
    "serp_df.rename(columns={'result' : 'Address'}, inplace = True);\n",
    "page_serp_df = serp_df.merge(page_df, on=\"Address\")\n",
    "page_serp_df.columns = page_serp_df.columns.str.replace(' ', '_')\n",
    "page_serp_df.columns = page_serp_df.columns.str.lower()\n",
    "page_serp_df.indexability.replace(to_replace = {'Non-Indexable' : 0, \n",
    "                                                'Indexable' : 1}, inplace = True);\n",
    "page_serp_df.meta_robots_1.replace(to_replace = {'.*': 1}, inplace = True, regex = True)\n",
    "page_serp_df.meta_robots_1.fillna(value = 0, inplace = True)\n",
    "page_serp_df.meta_robots_1 = page_serp_df.meta_robots_1.astype('int64')\n",
    "page_serp_df.meta_refresh_1.replace(to_replace = {'.*': 1}, inplace = True, regex = True)\n",
    "page_serp_df.meta_refresh_1.fillna(value = 0, inplace = True)\n",
    "page_serp_df.meta_refresh_1 = page_serp_df.meta_refresh_1.astype('int64')\n",
    "page_serp_df.canonical_link_element_1.replace(to_replace = {'.*': 1}, inplace = True, regex = True)\n",
    "page_serp_df.canonical_link_element_1.fillna(value = 0, inplace = True)\n",
    "page_serp_df.canonical_link_element_1 = page_serp_df.canonical_link_element_1.astype('int64')\n",
    "page_serp_df['rel=\"next\"_1'].replace(to_replace = {'.*': 1}, inplace = True, regex = True)\n",
    "page_serp_df['rel=\"next\"_1'].fillna(value = 0, inplace = True)\n",
    "page_serp_df['rel=\"next\"_1'] = page_serp_df['rel=\"next\"_1'].astype('int64')\n",
    "page_serp_df['rel=\"prev\"_1'].replace(to_replace = {'.*': 1}, inplace = True, regex = True)\n",
    "page_serp_df['rel=\"prev\"_1'].fillna(value = 0, inplace = True)\n",
    "page_serp_df['rel=\"prev\"_1'] = page_serp_df['rel=\"prev\"_1'].astype('int64')\n",
    "page_serp_df['response_time'].fillna(page_serp_df['response_time'].median(), inplace=True)\n",
    "page_serp_df.redirect_type.replace(to_replace = {'HTTP Redirect': 1,\n",
    "                                                 'HSTS Redirect' : 2,\n",
    "                                                 'Meta Refresh Redirect' : 3}, inplace = True)\n",
    "page_serp_df.redirect_type.fillna(value = 0, inplace = True)\n",
    "page_serp_df.redirect_type = page_serp_df.redirect_type.astype('int64')\n",
    "page_serp_df.crux_performance.fillna(value = 'UNKNOWN', inplace = True)\n",
    "\n",
    "page_serp_df.drop(columns = ['title_1',\n",
    "                             'content',\n",
    "                             'status',\n",
    "                             'indexability_status',\n",
    "                             'title_2',\n",
    "                             'meta_description_1',\n",
    "                             'meta_description_2',\n",
    "                             'meta_description_3',\n",
    "                             'meta_description_4',\n",
    "                             'meta_keyword_1',\n",
    "                             'meta_keyword_2',\n",
    "                             'meta_keyword_3',\n",
    "                             'meta_keyword_4',\n",
    "                             'meta_keyword_5',\n",
    "                             'meta_keyword_6',\n",
    "                             'meta_keyword_7',\n",
    "                             'meta_keyword_8',\n",
    "                             'meta_keyword_9',\n",
    "                             'meta_keyword_10',\n",
    "                             'meta_keyword_11',\n",
    "                             'meta_keyword_12',\n",
    "                             'meta_keyword_13',\n",
    "                             'meta_keywords_2_length',\n",
    "                             'meta_keywords_3_length',\n",
    "                             'meta_keywords_4_length',\n",
    "                             'meta_keywords_5_length',\n",
    "                             'meta_keywords_6_length',\n",
    "                             'meta_keywords_7_length',\n",
    "                             'meta_keywords_8_length',\n",
    "                             'meta_keywords_9_length',\n",
    "                             'meta_keywords_10_length',\n",
    "                             'meta_keywords_11_length',\n",
    "                             'meta_keywords_12_length',\n",
    "                             'meta_keywords_13_length',\n",
    "                             'h1-1',\n",
    "                             'h1-2',\n",
    "                             'h2-1',\n",
    "                             'h2-2',\n",
    "                             'meta_robots_2',\n",
    "                             'meta_robots_3',\n",
    "                             'meta_robots_4',\n",
    "                             'x-robots-tag_1',\n",
    "                             'x-robots-tag_2',\n",
    "                             'meta_refresh_2',\n",
    "                             'canonical_link_element_2',\n",
    "                             'http_rel=\"next\"_1',\n",
    "                             'http_rel=\"prev\"_1',\n",
    "                             'crawl_depth',\n",
    "                             'hash',\n",
    "                             'last_modified',\n",
    "                             'redirect_url',\n",
    "                             'url_encoded_address'], axis=1, inplace=True)\n",
    "\n",
    "pagespeed_data_df = page_serp_df.loc[page_serp_df.performance_score.isnull() == False]\n",
    "\n"
   ]
  },
  {
   "cell_type": "code",
   "execution_count": null,
   "metadata": {},
   "outputs": [],
   "source": []
  }
 ],
 "metadata": {
  "kernelspec": {
   "name": "Python 3.6.6 64-bit ('learn-env')",
   "display_name": "Python 3.6.6 64-bit ('learn-env')",
   "metadata": {
    "interpreter": {
     "hash": "c15d3b161d9e31d3c14101c293414707f40e59d6cae0bbd6b708ca3d1e942f6f"
    }
   }
  },
  "language_info": {
   "codemirror_mode": {
    "name": "ipython",
    "version": 3
   },
   "file_extension": ".py",
   "mimetype": "text/x-python",
   "name": "python",
   "nbconvert_exporter": "python",
   "pygments_lexer": "ipython3",
   "version": "3.6.6-final"
  },
  "toc": {
   "base_numbering": 1,
   "nav_menu": {},
   "number_sections": true,
   "sideBar": true,
   "skip_h1_title": false,
   "title_cell": "Table of Contents",
   "title_sidebar": "Contents",
   "toc_cell": false,
   "toc_position": {},
   "toc_section_display": true,
   "toc_window_display": false
  }
 },
 "nbformat": 4,
 "nbformat_minor": 4
}